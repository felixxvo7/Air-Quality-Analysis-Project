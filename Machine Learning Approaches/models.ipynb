{
 "cells": [
  {
   "cell_type": "code",
   "execution_count": 9,
   "id": "2b500d65-df0c-47db-973b-f39370c69c3c",
   "metadata": {
    "scrolled": true
   },
   "outputs": [
    {
     "name": "stderr",
     "output_type": "stream",
     "text": [
      "Loading required package: tidyverse\n",
      "\n",
      "Error: package or namespace load failed for 'tidyverse':\n",
      " .onAttach failed in attachNamespace() for 'tidyverse', details:\n",
      "  call: library(pkg, lib.loc = loc, character.only = TRUE, warn.conflicts = FALSE)\n",
      "  error: there is no package called 'ggplot2'\n",
      "\n",
      "also installing the dependencies 'sass', 'xfun', 'bslib', 'tidyselect', 'scales', 'knitr', 'rmarkdown', 'dbplyr', 'ggplot2', 'reprex'\n",
      "\n",
      "\n"
     ]
    },
    {
     "name": "stdout",
     "output_type": "stream",
     "text": [
      "\n",
      "  There are binary versions available but the source versions are later:\n",
      "           binary source needs_compilation\n",
      "sass        0.4.5  0.4.9              TRUE\n",
      "xfun         0.39   0.51              TRUE\n",
      "bslib       0.4.2  0.9.0             FALSE\n",
      "tidyselect  1.2.0  1.2.1              TRUE\n",
      "scales      1.2.1  1.3.0              TRUE\n",
      "knitr        1.42   1.49             FALSE\n",
      "rmarkdown    2.21   2.29             FALSE\n",
      "dbplyr      2.3.2  2.5.0             FALSE\n",
      "ggplot2     3.4.2  3.5.1             FALSE\n",
      "reprex      2.0.2  2.1.1             FALSE\n",
      "\n",
      "  Binaries will be installed\n",
      "package 'sass' successfully unpacked and MD5 sums checked\n",
      "package 'xfun' successfully unpacked and MD5 sums checked\n",
      "package 'tidyselect' successfully unpacked and MD5 sums checked\n",
      "package 'scales' successfully unpacked and MD5 sums checked\n",
      "package 'tidyverse' successfully unpacked and MD5 sums checked\n",
      "\n",
      "The downloaded binary packages are in\n",
      "\tC:\\Users\\DucDo\\AppData\\Local\\Temp\\RtmpcDIWa4\\downloaded_packages\n"
     ]
    },
    {
     "name": "stderr",
     "output_type": "stream",
     "text": [
      "installing the source packages 'bslib', 'knitr', 'rmarkdown', 'dbplyr', 'ggplot2', 'reprex'\n",
      "\n",
      "\n",
      "Warning message in install.packages(\"tidyverse\"):\n",
      "\"installation of package 'bslib' had non-zero exit status\"\n",
      "Warning message in install.packages(\"tidyverse\"):\n",
      "\"installation of package 'knitr' had non-zero exit status\"\n",
      "Warning message in install.packages(\"tidyverse\"):\n",
      "\"installation of package 'dbplyr' had non-zero exit status\"\n",
      "Warning message in install.packages(\"tidyverse\"):\n",
      "\"installation of package 'ggplot2' had non-zero exit status\"\n",
      "Warning message in install.packages(\"tidyverse\"):\n",
      "\"installation of package 'rmarkdown' had non-zero exit status\"\n",
      "Warning message in install.packages(\"tidyverse\"):\n",
      "\"installation of package 'reprex' had non-zero exit status\"\n",
      "Loading required package: keras\n",
      "\n",
      "Warning message in library(package, lib.loc = lib.loc, character.only = TRUE, logical.return = TRUE, :\n",
      "\"there is no package called 'keras'\"\n",
      "also installing the dependencies 'reticulate', 'tensorflow'\n",
      "\n",
      "\n"
     ]
    },
    {
     "name": "stdout",
     "output_type": "stream",
     "text": [
      "\n",
      "  There are binary versions available but the source versions are later:\n",
      "           binary   source needs_compilation\n",
      "reticulate   1.28 1.41.0.1              TRUE\n",
      "tensorflow 2.11.0   2.16.0             FALSE\n",
      "keras      2.11.1   2.15.0             FALSE\n",
      "\n",
      "  Binaries will be installed\n",
      "package 'reticulate' successfully unpacked and MD5 sums checked\n",
      "\n",
      "The downloaded binary packages are in\n",
      "\tC:\\Users\\DucDo\\AppData\\Local\\Temp\\RtmpcDIWa4\\downloaded_packages\n"
     ]
    },
    {
     "name": "stderr",
     "output_type": "stream",
     "text": [
      "installing the source packages 'tensorflow', 'keras'\n",
      "\n",
      "\n",
      "Warning message in install.packages(\"keras\"):\n",
      "\"installation of package 'tensorflow' had non-zero exit status\"\n",
      "Warning message in install.packages(\"keras\"):\n",
      "\"installation of package 'keras' had non-zero exit status\"\n"
     ]
    },
    {
     "ename": "ERROR",
     "evalue": "Error in library(\"keras\"): there is no package called 'keras'\n",
     "output_type": "error",
     "traceback": [
      "Error in library(\"keras\"): there is no package called 'keras'\nTraceback:\n",
      "1. stop(packageNotFoundError(package, lib.loc, sys.call()))"
     ]
    }
   ],
   "source": [
    "if (!require(\"tidyverse\")) {\n",
    "    install.packages(\"tidyverse\")\n",
    "}\n",
    "\n",
    "if (!require(\"keras\")) {\n",
    "    install.packages(\"keras\")\n",
    "}\n",
    "\n",
    "library(\"keras\")\n",
    "library(\"tidyverse\")\n"
   ]
  },
  {
   "cell_type": "code",
   "execution_count": 7,
   "id": "59a8734c-c8f3-4a69-a5ec-0e2546473c84",
   "metadata": {},
   "outputs": [
    {
     "name": "stderr",
     "output_type": "stream",
     "text": [
      "also installing the dependencies 'reticulate', 'tensorflow'\n",
      "\n",
      "\n"
     ]
    },
    {
     "name": "stdout",
     "output_type": "stream",
     "text": [
      "\n",
      "  There are binary versions available but the source versions are later:\n",
      "           binary   source needs_compilation\n",
      "reticulate   1.28 1.41.0.1              TRUE\n",
      "tensorflow 2.11.0   2.16.0             FALSE\n",
      "keras      2.11.1   2.15.0             FALSE\n",
      "\n",
      "  Binaries will be installed\n",
      "package 'reticulate' successfully unpacked and MD5 sums checked\n",
      "\n",
      "The downloaded binary packages are in\n",
      "\tC:\\Users\\DucDo\\AppData\\Local\\Temp\\RtmpcDIWa4\\downloaded_packages\n"
     ]
    },
    {
     "name": "stderr",
     "output_type": "stream",
     "text": [
      "installing the source packages 'tensorflow', 'keras'\n",
      "\n",
      "\n",
      "Warning message in install.packages(\"keras\"):\n",
      "\"installation of package 'tensorflow' had non-zero exit status\"\n",
      "Warning message in install.packages(\"keras\"):\n",
      "\"installation of package 'keras' had non-zero exit status\"\n"
     ]
    }
   ],
   "source": [
    "install.packages(\"keras\")"
   ]
  },
  {
   "cell_type": "code",
   "execution_count": null,
   "id": "740b32a8-b89c-49c0-96dc-78112c2a6f79",
   "metadata": {},
   "outputs": [],
   "source": [
    "install.packages(\"reticulate\")\n",
    "reticulate::install_miniconda()\n",
    "reticulate::conda_create(\"r-tensorflow\")\n",
    "reticulate::conda_install(\"r-tensorflow\", packages = \"tensorflow\")\n",
    "install.packages(\"keras\")\n",
    "library(keras)\n",
    "install_keras(method = \"conda\", envname = \"r-tensorflow\")\n"
   ]
  },
  {
   "cell_type": "code",
   "execution_count": 15,
   "id": "08bc2809-c8cd-4230-b138-af7c547439e8",
   "metadata": {},
   "outputs": [
    {
     "data": {
      "text/html": [
       "'R version 4.1.3 (2022-03-10)'"
      ],
      "text/latex": [
       "'R version 4.1.3 (2022-03-10)'"
      ],
      "text/markdown": [
       "'R version 4.1.3 (2022-03-10)'"
      ],
      "text/plain": [
       "[1] \"R version 4.1.3 (2022-03-10)\""
      ]
     },
     "metadata": {},
     "output_type": "display_data"
    }
   ],
   "source": [
    "R.version.string\n"
   ]
  },
  {
   "cell_type": "code",
   "execution_count": 13,
   "id": "45cac3fe-77bc-4467-a343-9f8a6d46a63c",
   "metadata": {},
   "outputs": [
    {
     "ename": "ERROR",
     "evalue": "Error in library(\"keras\"): there is no package called 'keras'\n",
     "output_type": "error",
     "traceback": [
      "Error in library(\"keras\"): there is no package called 'keras'\nTraceback:\n",
      "1. stop(packageNotFoundError(package, lib.loc, sys.call()))"
     ]
    }
   ],
   "source": [
    "library(\"keras\")"
   ]
  },
  {
   "cell_type": "code",
   "execution_count": null,
   "id": "10357ff3-bb8f-42ea-82e3-5a90b7b355df",
   "metadata": {},
   "outputs": [],
   "source": [
    "# Example: Load dataset (adjust based on your actual data source)\n",
    "df <- read.csv(\"../formated_data.csv\")\n",
    "\n",
    "# Define predictors (exclude Date, Time, and targets)\n",
    "predictors <- df %>% select(-c(Date, Time, CO, NOx, Benzene))\n",
    "\n",
    "# Define multiple target variables (CO, NOx, Benzene)\n",
    "targets <- df %>% select(CO, NOx, Benzene)\n",
    "\n",
    "# Normalize data (optional but recommended)\n",
    "normalize <- function(x) { (x - min(x)) / (max(x) - min(x)) }\n",
    "predictors <- as.data.frame(lapply(predictors, normalize))\n",
    "targets <- as.data.frame(lapply(targets, normalize))\n",
    "\n",
    "# Convert to matrices for Keras\n",
    "X <- as.matrix(predictors)\n",
    "Y <- as.matrix(targets)\n"
   ]
  }
 ],
 "metadata": {
  "kernelspec": {
   "display_name": "R",
   "language": "R",
   "name": "ir"
  },
  "language_info": {
   "codemirror_mode": "r",
   "file_extension": ".r",
   "mimetype": "text/x-r-source",
   "name": "R",
   "pygments_lexer": "r",
   "version": "4.1.3"
  }
 },
 "nbformat": 4,
 "nbformat_minor": 5
}
